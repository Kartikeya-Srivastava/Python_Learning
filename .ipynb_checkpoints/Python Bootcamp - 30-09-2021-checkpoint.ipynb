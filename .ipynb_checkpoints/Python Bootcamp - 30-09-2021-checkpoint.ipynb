{
 "cells": [
  {
   "cell_type": "markdown",
   "id": "df97ef3b",
   "metadata": {},
   "source": [
    "## For Loop"
   ]
  },
  {
   "cell_type": "code",
   "execution_count": 13,
   "id": "36d40ec5",
   "metadata": {},
   "outputs": [
    {
     "name": "stdout",
     "output_type": "stream",
     "text": [
      "1\n",
      "2\n",
      "3\n",
      "4\n",
      "5\n"
     ]
    }
   ],
   "source": [
    "seq = [1,2,3,4,5]\n",
    "for num in seq:\n",
    "    print(num)"
   ]
  },
  {
   "cell_type": "code",
   "execution_count": 14,
   "id": "591ece15",
   "metadata": {},
   "outputs": [
    {
     "name": "stdout",
     "output_type": "stream",
     "text": [
      "2\n",
      "3\n",
      "4\n",
      "5\n",
      "more than 5\n"
     ]
    }
   ],
   "source": [
    "for num in seq:\n",
    "    if num+1 <= 5:\n",
    "        print(num+1)\n",
    "    else:\n",
    "        print(\"more than 5\")"
   ]
  },
  {
   "cell_type": "markdown",
   "id": "514f0a26",
   "metadata": {},
   "source": [
    "## While Loop"
   ]
  },
  {
   "cell_type": "code",
   "execution_count": 17,
   "id": "d7d4694a",
   "metadata": {},
   "outputs": [
    {
     "name": "stdout",
     "output_type": "stream",
     "text": [
      "i is 0\n",
      "i is 1\n",
      "i is 2\n",
      "i is 3\n",
      "i is 4\n",
      "i is 5\n"
     ]
    }
   ],
   "source": [
    "i = 0\n",
    "\n",
    "while i <= 5:\n",
    "    print(\"i is {}\".format(i))\n",
    "    i = i +1"
   ]
  },
  {
   "cell_type": "code",
   "execution_count": 18,
   "id": "0f1074d4",
   "metadata": {},
   "outputs": [
    {
     "data": {
      "text/plain": [
       "6"
      ]
     },
     "execution_count": 18,
     "metadata": {},
     "output_type": "execute_result"
    }
   ],
   "source": [
    "i"
   ]
  },
  {
   "cell_type": "markdown",
   "id": "57344a8b",
   "metadata": {},
   "source": [
    "### Continuing on...."
   ]
  },
  {
   "cell_type": "code",
   "execution_count": 21,
   "id": "d0326288",
   "metadata": {},
   "outputs": [
    {
     "name": "stdout",
     "output_type": "stream",
     "text": [
      "10\n",
      "20\n",
      "30\n",
      "40\n",
      "50\n",
      "60\n",
      "70\n",
      "80\n",
      "90\n",
      "100\n"
     ]
    }
   ],
   "source": [
    "for x in range(10,110,10):\n",
    "    print(x)"
   ]
  },
  {
   "cell_type": "code",
   "execution_count": 22,
   "id": "55ca548c",
   "metadata": {},
   "outputs": [],
   "source": [
    "#Making a list comprehensions"
   ]
  },
  {
   "cell_type": "code",
   "execution_count": 24,
   "id": "b3a0594c",
   "metadata": {},
   "outputs": [],
   "source": [
    "x = [1,2,3,4,5]\n",
    "out = []\n",
    "for num in x:\n",
    "    out.append(num**2)"
   ]
  },
  {
   "cell_type": "code",
   "execution_count": 25,
   "id": "5e58e984",
   "metadata": {},
   "outputs": [
    {
     "name": "stdout",
     "output_type": "stream",
     "text": [
      "[1, 4, 9, 16, 25]\n"
     ]
    }
   ],
   "source": [
    "print(out)"
   ]
  },
  {
   "cell_type": "code",
   "execution_count": 27,
   "id": "a0cb8735",
   "metadata": {},
   "outputs": [
    {
     "name": "stdout",
     "output_type": "stream",
     "text": [
      "[1, 4, 9, 16, 25]\n"
     ]
    }
   ],
   "source": [
    "out_alt = [num**2 for num in x]\n",
    "print(out_alt)"
   ]
  },
  {
   "cell_type": "markdown",
   "id": "756aecd1",
   "metadata": {},
   "source": [
    "## Defining a function"
   ]
  },
  {
   "cell_type": "code",
   "execution_count": 34,
   "id": "67f3d01e",
   "metadata": {},
   "outputs": [],
   "source": [
    "def power(num,degree):\n",
    "    if num <= 10:\n",
    "        return num**degree\n",
    "    else:\n",
    "        print(\"num is too large\")"
   ]
  },
  {
   "cell_type": "code",
   "execution_count": 35,
   "id": "903397be",
   "metadata": {},
   "outputs": [
    {
     "data": {
      "text/plain": [
       "100"
      ]
     },
     "execution_count": 35,
     "metadata": {},
     "output_type": "execute_result"
    }
   ],
   "source": [
    "power(10,2)"
   ]
  },
  {
   "cell_type": "code",
   "execution_count": 36,
   "id": "4112dfb9",
   "metadata": {},
   "outputs": [
    {
     "name": "stdout",
     "output_type": "stream",
     "text": [
      "num is too large\n"
     ]
    }
   ],
   "source": [
    "power(11,2)"
   ]
  },
  {
   "cell_type": "code",
   "execution_count": 37,
   "id": "07cb03db",
   "metadata": {},
   "outputs": [],
   "source": [
    "def square(num,degree=2):\n",
    "    if num <= 10:\n",
    "        return num**degree\n",
    "    else:\n",
    "        print(\"num is too large\")"
   ]
  },
  {
   "cell_type": "code",
   "execution_count": 38,
   "id": "398e57c6",
   "metadata": {},
   "outputs": [
    {
     "data": {
      "text/plain": [
       "16"
      ]
     },
     "execution_count": 38,
     "metadata": {},
     "output_type": "execute_result"
    }
   ],
   "source": [
    "square(4)"
   ]
  },
  {
   "cell_type": "code",
   "execution_count": 39,
   "id": "d4774e5b",
   "metadata": {},
   "outputs": [
    {
     "data": {
      "text/plain": [
       "64"
      ]
     },
     "execution_count": 39,
     "metadata": {},
     "output_type": "execute_result"
    }
   ],
   "source": [
    "square(4,3)"
   ]
  },
  {
   "cell_type": "code",
   "execution_count": 40,
   "id": "51420567",
   "metadata": {},
   "outputs": [
    {
     "ename": "SyntaxError",
     "evalue": "non-default argument follows default argument (Temp/ipykernel_12320/34635891.py, line 1)",
     "output_type": "error",
     "traceback": [
      "\u001b[1;36m  File \u001b[1;32m\"C:\\Users\\KARTIK~1\\AppData\\Local\\Temp/ipykernel_12320/34635891.py\"\u001b[1;36m, line \u001b[1;32m1\u001b[0m\n\u001b[1;33m    def expo(num=2,degree):\u001b[0m\n\u001b[1;37m             ^\u001b[0m\n\u001b[1;31mSyntaxError\u001b[0m\u001b[1;31m:\u001b[0m non-default argument follows default argument\n"
     ]
    }
   ],
   "source": [
    "def expo(num=2,degree):\n",
    "    if num <= 10:\n",
    "        return num**degree\n",
    "    else:\n",
    "        print(\"num is too large\")"
   ]
  },
  {
   "cell_type": "code",
   "execution_count": 41,
   "id": "acb7b9ff",
   "metadata": {},
   "outputs": [],
   "source": [
    "## ^ As you can see above, the default argument CANNOT be put before a non-default one. In this case,\n",
    "## num is the default one and degree is non-default one"
   ]
  },
  {
   "cell_type": "markdown",
   "id": "bb812631",
   "metadata": {},
   "source": [
    "#### There is a difference between power() and power. Without using (), Python will give me what power function does"
   ]
  },
  {
   "cell_type": "code",
   "execution_count": 42,
   "id": "18991710",
   "metadata": {},
   "outputs": [
    {
     "data": {
      "text/plain": [
       "<function __main__.power(num, degree)>"
      ]
     },
     "execution_count": 42,
     "metadata": {},
     "output_type": "execute_result"
    }
   ],
   "source": [
    "power"
   ]
  },
  {
   "cell_type": "markdown",
   "id": "29c6bc00",
   "metadata": {},
   "source": [
    "### MAP\n",
    "\n",
    "#### Suppose we want to execute a function to a list, we can use 'MAP' function"
   ]
  },
  {
   "cell_type": "code",
   "execution_count": 54,
   "id": "0d74220a",
   "metadata": {},
   "outputs": [
    {
     "data": {
      "text/plain": [
       "[1, 4, 9, 16, 25]"
      ]
     },
     "execution_count": 54,
     "metadata": {},
     "output_type": "execute_result"
    }
   ],
   "source": [
    "list(map(square,seq))"
   ]
  },
  {
   "cell_type": "code",
   "execution_count": 61,
   "id": "d007949c",
   "metadata": {},
   "outputs": [],
   "source": [
    "mylist = [0,1,2,3,4,5,6,7,8,9,10,11]"
   ]
  },
  {
   "cell_type": "code",
   "execution_count": 70,
   "id": "2cb8edbb",
   "metadata": {},
   "outputs": [
    {
     "name": "stdout",
     "output_type": "stream",
     "text": [
      "num is too large\n"
     ]
    },
    {
     "data": {
      "text/plain": [
       "[0, 1, 4, 9, 16, 25, 36, 49, 64, 81, 100, None]"
      ]
     },
     "execution_count": 70,
     "metadata": {},
     "output_type": "execute_result"
    }
   ],
   "source": [
    "list(map(square,mylist))"
   ]
  },
  {
   "cell_type": "code",
   "execution_count": 63,
   "id": "64c81643",
   "metadata": {},
   "outputs": [],
   "source": [
    "# ^It is returning a value of 'None' for the number 11 in the list because if you see the original function, we have implemented\n",
    "# an if function, wherein, only values till 10 shall be considered for squaring."
   ]
  },
  {
   "cell_type": "markdown",
   "id": "d8c6e013",
   "metadata": {},
   "source": [
    "### LAMBDA"
   ]
  },
  {
   "cell_type": "markdown",
   "id": "783f75aa",
   "metadata": {},
   "source": [
    "#### But what if I had not defined by square function? What if I just wanted a temporary function on the fly. THAT'S WHERE LAMBDA EXPRESSION COMES INTO PLAY."
   ]
  },
  {
   "cell_type": "code",
   "execution_count": 71,
   "id": "a9cfa974",
   "metadata": {},
   "outputs": [
    {
     "data": {
      "text/plain": [
       "[0, 1, 4, 9, 16, 25, 36, 49, 64, 81, 100, 121]"
      ]
     },
     "execution_count": 71,
     "metadata": {},
     "output_type": "execute_result"
    }
   ],
   "source": [
    "list(map(lambda num : num**2,mylist))"
   ]
  },
  {
   "cell_type": "markdown",
   "id": "e44efbbf",
   "metadata": {},
   "source": [
    "### FILTER"
   ]
  },
  {
   "cell_type": "markdown",
   "id": "d672a5d5",
   "metadata": {},
   "source": [
    "#### Suppose I wanted to see in mylist how many numbers are divisible by 2 (basically, even numbers) and make a boolean-powered list. We can do list comprehension with an if function but that would be too complicated so we don't really want to do all that much. HERE COMES THE FILTER FUNCTION "
   ]
  },
  {
   "cell_type": "code",
   "execution_count": 73,
   "id": "56582703",
   "metadata": {},
   "outputs": [],
   "source": [
    "#Step 1"
   ]
  },
  {
   "cell_type": "code",
   "execution_count": 74,
   "id": "324ceb2d",
   "metadata": {},
   "outputs": [
    {
     "data": {
      "text/plain": [
       "<filter at 0x18eff6fb670>"
      ]
     },
     "execution_count": 74,
     "metadata": {},
     "output_type": "execute_result"
    }
   ],
   "source": [
    "filter(lambda num : num%2 ==0,mylist)"
   ]
  },
  {
   "cell_type": "code",
   "execution_count": 76,
   "id": "4c9aa82d",
   "metadata": {},
   "outputs": [],
   "source": [
    "#Step 2 - Now we need to convert this to a  list"
   ]
  },
  {
   "cell_type": "code",
   "execution_count": 77,
   "id": "e8ee0843",
   "metadata": {},
   "outputs": [
    {
     "data": {
      "text/plain": [
       "[0, 2, 4, 6, 8, 10]"
      ]
     },
     "execution_count": 77,
     "metadata": {},
     "output_type": "execute_result"
    }
   ],
   "source": [
    "list(filter(lambda num : num%2 ==0,mylist))"
   ]
  },
  {
   "cell_type": "code",
   "execution_count": 78,
   "id": "e882d8cd",
   "metadata": {},
   "outputs": [],
   "source": [
    "#It's that simple"
   ]
  },
  {
   "cell_type": "markdown",
   "id": "5d135ae1",
   "metadata": {},
   "source": [
    "## METHODS"
   ]
  },
  {
   "cell_type": "code",
   "execution_count": 91,
   "id": "bfc6e1ca",
   "metadata": {},
   "outputs": [],
   "source": [
    "s = 'Dog loves to play'"
   ]
  },
  {
   "cell_type": "code",
   "execution_count": 89,
   "id": "60aa58ae",
   "metadata": {},
   "outputs": [],
   "source": [
    "#Enter s. and after that hit the tab key in the keyboard to get the list of methods available for that type of variable"
   ]
  },
  {
   "cell_type": "code",
   "execution_count": 88,
   "id": "3f703743",
   "metadata": {},
   "outputs": [
    {
     "data": {
      "text/plain": [
       "'DOG LOVES TO PLAY'"
      ]
     },
     "execution_count": 88,
     "metadata": {},
     "output_type": "execute_result"
    }
   ],
   "source": [
    "s.upper()"
   ]
  },
  {
   "cell_type": "code",
   "execution_count": 92,
   "id": "10da7df7",
   "metadata": {},
   "outputs": [],
   "source": [
    "t = \"Liverpool 2-2 Milan #ChampionsLeague\""
   ]
  },
  {
   "cell_type": "code",
   "execution_count": 93,
   "id": "7ac5205a",
   "metadata": {},
   "outputs": [
    {
     "data": {
      "text/plain": [
       "['Liverpool 2-2 Milan ', 'ChampionsLeague']"
      ]
     },
     "execution_count": 93,
     "metadata": {},
     "output_type": "execute_result"
    }
   ],
   "source": [
    "t.split(\"#\")"
   ]
  },
  {
   "cell_type": "code",
   "execution_count": 94,
   "id": "8505ac9f",
   "metadata": {},
   "outputs": [
    {
     "data": {
      "text/plain": [
       "'Liverpool 2-2 Milan '"
      ]
     },
     "execution_count": 94,
     "metadata": {},
     "output_type": "execute_result"
    }
   ],
   "source": [
    "t.split('#')[0]"
   ]
  },
  {
   "cell_type": "code",
   "execution_count": 95,
   "id": "ed310b43",
   "metadata": {},
   "outputs": [
    {
     "data": {
      "text/plain": [
       "'ChampionsLeague'"
      ]
     },
     "execution_count": 95,
     "metadata": {},
     "output_type": "execute_result"
    }
   ],
   "source": [
    "t.split('#')[1]"
   ]
  },
  {
   "cell_type": "markdown",
   "id": "d10976bf",
   "metadata": {},
   "source": [
    "### TUPLE UNPACKING"
   ]
  },
  {
   "cell_type": "code",
   "execution_count": 96,
   "id": "90886939",
   "metadata": {},
   "outputs": [],
   "source": [
    "tpl = [(1,2),(3,4),(5,6),(7,8),(9,10)]"
   ]
  },
  {
   "cell_type": "code",
   "execution_count": 98,
   "id": "271376ba",
   "metadata": {},
   "outputs": [
    {
     "name": "stdout",
     "output_type": "stream",
     "text": [
      "1\n",
      "3\n",
      "5\n",
      "7\n",
      "9\n"
     ]
    }
   ],
   "source": [
    "for (a,b) in tpl:\n",
    "    print (a)"
   ]
  },
  {
   "cell_type": "code",
   "execution_count": 100,
   "id": "3a26542f",
   "metadata": {},
   "outputs": [
    {
     "name": "stdout",
     "output_type": "stream",
     "text": [
      "2\n",
      "4\n",
      "6\n",
      "8\n",
      "10\n"
     ]
    }
   ],
   "source": [
    "for (a,b) in tpl:\n",
    "    print (b)"
   ]
  },
  {
   "cell_type": "code",
   "execution_count": null,
   "id": "e4587b4c",
   "metadata": {},
   "outputs": [],
   "source": []
  }
 ],
 "metadata": {
  "kernelspec": {
   "display_name": "Python 3 (ipykernel)",
   "language": "python",
   "name": "python3"
  },
  "language_info": {
   "codemirror_mode": {
    "name": "ipython",
    "version": 3
   },
   "file_extension": ".py",
   "mimetype": "text/x-python",
   "name": "python",
   "nbconvert_exporter": "python",
   "pygments_lexer": "ipython3",
   "version": "3.8.8"
  }
 },
 "nbformat": 4,
 "nbformat_minor": 5
}
