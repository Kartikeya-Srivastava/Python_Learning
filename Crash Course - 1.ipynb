# -*- coding: utf-8 -*-
"""
Created on Mon Sep 20 22:29:28 2021

@author: Kartikeya
"""

num = 8
name = 'Kartikeya'
'My name is {} and my employee ID is {}'.format(name, num)
