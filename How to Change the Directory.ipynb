{
 "cells": [
  {
   "cell_type": "code",
   "execution_count": null,
   "id": "2e13cb98",
   "metadata": {},
   "outputs": [],
   "source": [
    "#when you open Anaconda Prompt, write cd to change the directory,\n",
    "#followd by the directory you want the file to be saved\n",
    "\n",
    "#for example,\n",
    "#C:\\Users\\Kartikeya>\n",
    "#type cd followed by the path\n",
    "#C:\\Users\\Kartikeya>cd [insert path name here] and press enter\n",
    "#C:\\Users]Kartikeya\\[path name] [space] jupyter notebook/spyder/any other IDE you want to use\n"
   ]
  }
 ],
 "metadata": {
  "kernelspec": {
   "display_name": "Python 3",
   "language": "python",
   "name": "python3"
  },
  "language_info": {
   "codemirror_mode": {
    "name": "ipython",
    "version": 3
   },
   "file_extension": ".py",
   "mimetype": "text/x-python",
   "name": "python",
   "nbconvert_exporter": "python",
   "pygments_lexer": "ipython3",
   "version": "3.8.8"
  }
 },
 "nbformat": 4,
 "nbformat_minor": 5
}
