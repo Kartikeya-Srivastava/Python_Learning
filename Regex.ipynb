{
 "cells": [
  {
   "cell_type": "code",
   "execution_count": 15,
   "id": "de43a062",
   "metadata": {},
   "outputs": [],
   "source": [
    "import re"
   ]
  },
  {
   "cell_type": "code",
   "execution_count": 16,
   "id": "e89c628c",
   "metadata": {},
   "outputs": [],
   "source": [
    "Text = 'The Supreme Court’s interim order on the Pegasus issue cannot be interpreted purely in legal terms. Its implications cover many dimensions, not least the fact that the judgement brings a sense of catharsis to a democracy which was finding it difficult to breathe.'"
   ]
  },
  {
   "cell_type": "code",
   "execution_count": 17,
   "id": "1a0e9724",
   "metadata": {},
   "outputs": [
    {
     "data": {
      "text/plain": [
       "'The Supreme Court’s interim order on the Pegasus issue cannot be interpreted purely in legal terms. Its implications cover many dimensions, not least the fact that the judgement brings a sense of catharsis to a democracy which was finding it difficult to breathe.'"
      ]
     },
     "execution_count": 17,
     "metadata": {},
     "output_type": "execute_result"
    }
   ],
   "source": [
    "Text"
   ]
  },
  {
   "cell_type": "code",
   "execution_count": 18,
   "id": "73c805fe",
   "metadata": {},
   "outputs": [
    {
     "data": {
      "text/plain": [
       "[]"
      ]
     },
     "execution_count": 18,
     "metadata": {},
     "output_type": "execute_result"
    }
   ],
   "source": [
    "#Check if ther text is starting with India\n",
    "re.findall(r\"\\ASupreme\",Text)"
   ]
  },
  {
   "cell_type": "code",
   "execution_count": 19,
   "id": "89d8ab32",
   "metadata": {},
   "outputs": [
    {
     "data": {
      "text/plain": [
       "['Supr']"
      ]
     },
     "execution_count": 19,
     "metadata": {},
     "output_type": "execute_result"
    }
   ],
   "source": [
    "#Check if a word is starting with a string\n",
    "re.findall(r\"\\bSupr\",Text) #It is referencing 'Supreme'"
   ]
  },
  {
   "cell_type": "code",
   "execution_count": null,
   "id": "eb9cc17a",
   "metadata": {},
   "outputs": [],
   "source": []
  },
  {
   "cell_type": "code",
   "execution_count": null,
   "id": "03bd2f7f",
   "metadata": {},
   "outputs": [],
   "source": []
  }
 ],
 "metadata": {
  "kernelspec": {
   "display_name": "Python 3",
   "language": "python",
   "name": "python3"
  },
  "language_info": {
   "codemirror_mode": {
    "name": "ipython",
    "version": 3
   },
   "file_extension": ".py",
   "mimetype": "text/x-python",
   "name": "python",
   "nbconvert_exporter": "python",
   "pygments_lexer": "ipython3",
   "version": "3.8.8"
  }
 },
 "nbformat": 4,
 "nbformat_minor": 5
}
